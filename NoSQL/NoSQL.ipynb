{
 "cells": [
  {
   "cell_type": "code",
   "execution_count": 1,
   "id": "80129daa",
   "metadata": {},
   "outputs": [],
   "source": [
    "# !pip install boto3\n",
    "import boto3"
   ]
  },
  {
   "cell_type": "code",
   "execution_count": 18,
   "id": "71fa5b3c",
   "metadata": {},
   "outputs": [],
   "source": [
    "# I have preconfigured aksk using AWS CLI\n",
    "s3 = boto3.resource('s3')\n",
    "\n",
    "# create a s3 bucket\n",
    "try:\n",
    "    s3.create_bucket(Bucket='datacont-chunying', CreateBucketConfiguration = {\n",
    "        'LocationConstraint': 'us-west-2'}\n",
    "    ) \n",
    "except Exception as e:\n",
    "    print (e)"
   ]
  },
  {
   "cell_type": "code",
   "execution_count": 19,
   "id": "bbf0a69b",
   "metadata": {},
   "outputs": [
    {
     "data": {
      "text/plain": [
       "{'ResponseMetadata': {'RequestId': 'MS4BXCW4N6D6SA3A',\n",
       "  'HostId': 'NTzAiBBfqjL2iPQrCRzwc+5txcZ1BK9kyD7Cs024NP1R59op3hdN/Il3IVZB/6OGE1Juo/3T3TU=',\n",
       "  'HTTPStatusCode': 200,\n",
       "  'HTTPHeaders': {'x-amz-id-2': 'NTzAiBBfqjL2iPQrCRzwc+5txcZ1BK9kyD7Cs024NP1R59op3hdN/Il3IVZB/6OGE1Juo/3T3TU=',\n",
       "   'x-amz-request-id': 'MS4BXCW4N6D6SA3A',\n",
       "   'date': 'Mon, 18 Oct 2021 19:54:25 GMT',\n",
       "   'server': 'AmazonS3',\n",
       "   'content-length': '0'},\n",
       "  'RetryAttempts': 1}}"
      ]
     },
     "execution_count": 19,
     "metadata": {},
     "output_type": "execute_result"
    }
   ],
   "source": [
    "bucket = s3.Bucket(\"datacont-chunying\")\n",
    "\n",
    "# make this bucket publicly readable\n",
    "bucket.Acl().put(ACL='public-read')"
   ]
  },
  {
   "cell_type": "code",
   "execution_count": 20,
   "id": "8251431e",
   "metadata": {},
   "outputs": [
    {
     "data": {
      "text/plain": [
       "{'ResponseMetadata': {'RequestId': 'C8R5GY85YWA78ZPB',\n",
       "  'HostId': 'KY0xMGkTNTDdkj4pPSq9wZsSLPBikygmR3TduKepeoKHBwlCE7mJqUX75c0nUqJ9yV+bhzdYfpA=',\n",
       "  'HTTPStatusCode': 200,\n",
       "  'HTTPHeaders': {'x-amz-id-2': 'KY0xMGkTNTDdkj4pPSq9wZsSLPBikygmR3TduKepeoKHBwlCE7mJqUX75c0nUqJ9yV+bhzdYfpA=',\n",
       "   'x-amz-request-id': 'C8R5GY85YWA78ZPB',\n",
       "   'date': 'Mon, 18 Oct 2021 19:54:34 GMT',\n",
       "   'server': 'AmazonS3',\n",
       "   'content-length': '0'},\n",
       "  'RetryAttempts': 0}}"
      ]
     },
     "execution_count": 20,
     "metadata": {},
     "output_type": "execute_result"
    }
   ],
   "source": [
    "# upload data file into the bucket and make them publicly readable\n",
    "\n",
    "data_folder = 'data/'\n",
    "bucket_name = 'datacont-chunying'\n",
    "\n",
    "file_name = 'experiments.csv'\n",
    "experiments = open(data_folder+file_name, 'rb')\n",
    "s3.Object(bucket_name, file_name).put(Body = experiments)\n",
    "s3.Object(bucket_name, file_name).Acl().put(ACL='public-read')"
   ]
  },
  {
   "cell_type": "code",
   "execution_count": 21,
   "id": "1394bda0",
   "metadata": {},
   "outputs": [],
   "source": [
    "# Get the service resource.\n",
    "dynamodb = boto3.resource('dynamodb', region_name='us-west-2')"
   ]
  },
  {
   "cell_type": "code",
   "execution_count": 22,
   "id": "cf3e11d1",
   "metadata": {},
   "outputs": [
    {
     "name": "stdout",
     "output_type": "stream",
     "text": [
      "0\n"
     ]
    }
   ],
   "source": [
    "table_name = 'DataTable-chunying'\n",
    "\n",
    "# Create the DynamoDB table.\n",
    "table = dynamodb.create_table(\n",
    "    TableName=table_name,\n",
    "    KeySchema=[\n",
    "        {\n",
    "            'AttributeName': 'ID',\n",
    "            'KeyType': 'HASH'\n",
    "        }\n",
    "    ],\n",
    "    ID=[\n",
    "        {\n",
    "            'AttributeName': 'ID',\n",
    "            'AttributeType': 'S'\n",
    "        }\n",
    "    ],\n",
    "    ProvisionedThroughput={\n",
    "        'ReadCapacityUnits': 5,\n",
    "        'WriteCapacityUnits': 5\n",
    "    }\n",
    ")\n",
    "\n",
    "# Wait until the table exists.\n",
    "table.meta.client.get_waiter('table_exists').wait(TableName=table_name)\n",
    "\n",
    "# Print out some data about the table.\n",
    "print(table.item_count)"
   ]
  },
  {
   "cell_type": "code",
   "execution_count": 32,
   "id": "566907f3",
   "metadata": {},
   "outputs": [
    {
     "name": "stdout",
     "output_type": "stream",
     "text": [
      "['1', '-1', '52', '3.4', 'exp1.csv']\n",
      "['2', '-2', '52.1', '3.4', 'exp2.csv']\n",
      "['3', '-2.93', '57.1', '3.7', 'exp3.csv']\n"
     ]
    }
   ],
   "source": [
    "import csv\n",
    "\n",
    "s3_endpoint = \"https://\"+bucket_name+\".s3.us-west-2.amazonaws.com/\"\n",
    "\n",
    "with open(data_folder+file_name, 'r') as csvfile: \n",
    "    csvf = csv.reader(csvfile, delimiter=',', quotechar='|')\n",
    "    next(csvf, None)  # skip the headers\n",
    "    for item in csvf:\n",
    "        print(item)\n",
    "        file_item = item[4]\n",
    "        body = open(data_folder+file_item, 'rb') \n",
    "        s3.Object(bucket_name, file_item).put(Body=body)\n",
    "        md = s3.Object(bucket_name, file_item).Acl().put(ACL='public-read')\n",
    "        \n",
    "        url = s3_endpoint + file_item\n",
    "        metadata_item = {'ID': item[0], 'Temp': item[1],\n",
    "        'Conductivity' : item[2], 'Concentration' : item[3], 'URL':url}\n",
    "        \n",
    "        try: \n",
    "            table.put_item(Item=metadata_item)\n",
    "        except:\n",
    "            print(\"item may already be there or another failure\")"
   ]
  },
  {
   "cell_type": "code",
   "execution_count": 37,
   "id": "8343e30c",
   "metadata": {},
   "outputs": [],
   "source": [
    "# query data\n",
    "response = table.get_item(\n",
    "    Key={\n",
    "        'ID': '2'\n",
    "    }\n",
    ")"
   ]
  },
  {
   "cell_type": "code",
   "execution_count": 38,
   "id": "8a3c6ed9",
   "metadata": {},
   "outputs": [
    {
     "name": "stdout",
     "output_type": "stream",
     "text": [
      "{'Temp': '-2', 'Concentration': '3.4', 'ID': '2', 'Conductivity': '52.1', 'URL': 'https://datacont-chunying.s3.us-west-2.amazonaws.com/exp2.csv'}\n"
     ]
    }
   ],
   "source": [
    "item = response['Item']\n",
    "print(item)"
   ]
  },
  {
   "cell_type": "code",
   "execution_count": 39,
   "id": "6704ce16",
   "metadata": {},
   "outputs": [
    {
     "data": {
      "text/plain": [
       "{'Item': {'Temp': '-2',\n",
       "  'Concentration': '3.4',\n",
       "  'ID': '2',\n",
       "  'Conductivity': '52.1',\n",
       "  'URL': 'https://datacont-chunying.s3.us-west-2.amazonaws.com/exp2.csv'},\n",
       " 'ResponseMetadata': {'RequestId': 'DE30SNDJEBLL8G5KLTH96GBF7NVV4KQNSO5AEMVJF66Q9ASUAAJG',\n",
       "  'HTTPStatusCode': 200,\n",
       "  'HTTPHeaders': {'server': 'Server',\n",
       "   'date': 'Mon, 18 Oct 2021 20:10:42 GMT',\n",
       "   'content-type': 'application/x-amz-json-1.0',\n",
       "   'content-length': '175',\n",
       "   'connection': 'keep-alive',\n",
       "   'x-amzn-requestid': 'DE30SNDJEBLL8G5KLTH96GBF7NVV4KQNSO5AEMVJF66Q9ASUAAJG',\n",
       "   'x-amz-crc32': '3400203744'},\n",
       "  'RetryAttempts': 0}}"
      ]
     },
     "execution_count": 39,
     "metadata": {},
     "output_type": "execute_result"
    }
   ],
   "source": [
    "response"
   ]
  },
  {
   "cell_type": "code",
   "execution_count": null,
   "id": "44fdc7d5",
   "metadata": {},
   "outputs": [],
   "source": []
  }
 ],
 "metadata": {
  "kernelspec": {
   "display_name": "Python 3",
   "language": "python",
   "name": "python3"
  },
  "language_info": {
   "codemirror_mode": {
    "name": "ipython",
    "version": 3
   },
   "file_extension": ".py",
   "mimetype": "text/x-python",
   "name": "python",
   "nbconvert_exporter": "python",
   "pygments_lexer": "ipython3",
   "version": "3.8.8"
  }
 },
 "nbformat": 4,
 "nbformat_minor": 5
}
